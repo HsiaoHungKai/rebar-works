{
 "cells": [
  {
   "cell_type": "code",
   "execution_count": 7,
   "id": "082bd958",
   "metadata": {},
   "outputs": [
    {
     "name": "stdout",
     "output_type": "stream",
     "text": [
      "\n",
      "image 1/1 /Users/Lab/rebar-works/depth-models/depth_map_comparison/0.5m/20250502_134857.jpg: 640x480 (no detections), 95.3ms\n",
      "Speed: 2.0ms preprocess, 95.3ms inference, 0.3ms postprocess per image at shape (1, 3, 640, 480)\n",
      "ultralytics.engine.results.Boxes object with attributes:\n",
      "\n",
      "cls: tensor([])\n",
      "conf: tensor([])\n",
      "data: tensor([], size=(0, 6))\n",
      "id: None\n",
      "is_track: False\n",
      "orig_shape: (4000, 3000)\n",
      "shape: torch.Size([0, 6])\n",
      "xywh: tensor([], size=(0, 4))\n",
      "xywhn: tensor([], size=(0, 4))\n",
      "xyxy: tensor([], size=(0, 4))\n",
      "xyxyn: tensor([], size=(0, 4))\n"
     ]
    }
   ],
   "source": [
    "from ultralytics import YOLO\n",
    "\n",
    "model = YOLO(\"runs/detect/train3/weights/best.pt\")  \n",
    "\n",
    "# Perform object detection on an image\n",
    "results = model(\"/Users/Lab/rebar-works/depth-models/depth_map_comparison/0.5m/20250502_134857.jpg\")  # Predict on an image\n",
    "results[0].show()  # Display results\n",
    "print(results[0].boxes)  # Print detected boxes\n",
    "\n",
    "# Export the model to ONNX format for deployment\n",
    "# path = model.export(format=\"onnx\")  # Returns the path to the exported model"
   ]
  }
 ],
 "metadata": {
  "kernelspec": {
   "display_name": "base",
   "language": "python",
   "name": "python3"
  },
  "language_info": {
   "codemirror_mode": {
    "name": "ipython",
    "version": 3
   },
   "file_extension": ".py",
   "mimetype": "text/x-python",
   "name": "python",
   "nbconvert_exporter": "python",
   "pygments_lexer": "ipython3",
   "version": "3.12.7"
  }
 },
 "nbformat": 4,
 "nbformat_minor": 5
}
